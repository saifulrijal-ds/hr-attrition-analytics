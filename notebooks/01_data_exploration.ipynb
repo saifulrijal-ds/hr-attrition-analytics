{
 "cells": [
  {
   "cell_type": "markdown",
   "metadata": {},
   "source": [
    "### Setting up the environment"
   ]
  },
  {
   "cell_type": "code",
   "execution_count": 1,
   "metadata": {},
   "outputs": [],
   "source": [
    "# Import necessary  libraries\n",
    "import pandas as pd\n",
    "import numpy as np\n",
    "import matplotlib.pyplot as plt\n",
    "import seaborn as sns\n",
    "from datetime import datetime\n",
    "\n",
    "# Set plot style\n",
    "plt.style.use('seaborn-v0_8-whitegrid')\n",
    "sns.set_palette(\"deep\")\n",
    "sns.set_context(\"notebook\", font_scale=1.2)\n",
    "\n",
    "# Pandas display settings\n",
    "pd.set_option('display.max_columns', None)\n",
    "pd.set_option('display.width', 1000)\n",
    "\n",
    "# For reproducibility\n",
    "np.random.seed(42)"
   ]
  },
  {
   "cell_type": "markdown",
   "metadata": {},
   "source": [
    "### Loading the data"
   ]
  },
  {
   "cell_type": "code",
   "execution_count": 3,
   "metadata": {},
   "outputs": [],
   "source": [
    "data_dir = '../data/raw/'\n",
    "\n",
    "# Load employee data\n",
    "employees_df = pd.read_csv(f'{data_dir}employees.csv', parse_dates=['HireDate', 'ExitDate'])\n",
    "\n",
    "# Load survey data\n",
    "surveys_df = pd.read_csv(f'{data_dir}surveys.csv', parse_dates=['SurveyDate'])\n",
    "\n",
    "# Load performance data\n",
    "performance_df = pd.read_csv(f'{data_dir}performance.csv')\n",
    "\n",
    "# Load promotion history\n",
    "promotions_df = pd.read_csv(f'{data_dir}promotions.csv', parse_dates=['PromotionDate'])\n",
    "\n",
    "# Load training data\n",
    "training_df = pd.read_csv(f'{data_dir}training.csv', parse_dates=['CompletionDate'])\n",
    "\n",
    "# Load exit interview data\n",
    "exit_interviews_df = pd.read_csv(f'{data_dir}exit_interviews.csv', parse_dates=['ExitDate', 'InterviewDate'])\n",
    "\n",
    "# Load recruitment cost data\n",
    "recruitment_costs_df = pd.read_csv(f'{data_dir}recruitment_costs.csv')"
   ]
  },
  {
   "cell_type": "markdown",
   "metadata": {},
   "source": [
    "### Initial data overview"
   ]
  },
  {
   "cell_type": "code",
   "execution_count": 4,
   "metadata": {},
   "outputs": [
    {
     "name": "stdout",
     "output_type": "stream",
     "text": [
      "Employee data shape: (3900, 25)\n"
     ]
    },
    {
     "data": {
      "application/vnd.microsoft.datawrangler.viewer.v0+json": {
       "columns": [
        {
         "name": "index",
         "rawType": "int64",
         "type": "integer"
        },
        {
         "name": "EmployeeID",
         "rawType": "int64",
         "type": "integer"
        },
        {
         "name": "FirstName",
         "rawType": "object",
         "type": "string"
        },
        {
         "name": "LastName",
         "rawType": "object",
         "type": "string"
        },
        {
         "name": "Age",
         "rawType": "int64",
         "type": "integer"
        },
        {
         "name": "Gender",
         "rawType": "object",
         "type": "string"
        },
        {
         "name": "OfficeLocation",
         "rawType": "object",
         "type": "string"
        },
        {
         "name": "DistanceFromHome",
         "rawType": "float64",
         "type": "float"
        },
        {
         "name": "Department",
         "rawType": "object",
         "type": "string"
        },
        {
         "name": "JobRole",
         "rawType": "object",
         "type": "string"
        },
        {
         "name": "JobLevel",
         "rawType": "object",
         "type": "string"
        },
        {
         "name": "Education",
         "rawType": "object",
         "type": "string"
        },
        {
         "name": "FieldOfStudy",
         "rawType": "object",
         "type": "string"
        },
        {
         "name": "HireDate",
         "rawType": "datetime64[ns]",
         "type": "datetime"
        },
        {
         "name": "YearsAtCompany",
         "rawType": "float64",
         "type": "float"
        },
        {
         "name": "YearsSinceLastPromotion",
         "rawType": "int64",
         "type": "integer"
        },
        {
         "name": "JobSatisfaction",
         "rawType": "float64",
         "type": "float"
        },
        {
         "name": "EnvironmentSatisfaction",
         "rawType": "int64",
         "type": "integer"
        },
        {
         "name": "WorkLifeBalance",
         "rawType": "int64",
         "type": "integer"
        },
        {
         "name": "PerformanceRating",
         "rawType": "int64",
         "type": "integer"
        },
        {
         "name": "Overtime",
         "rawType": "bool",
         "type": "boolean"
        },
        {
         "name": "MonthlyIncome",
         "rawType": "float64",
         "type": "float"
        },
        {
         "name": "AnnualIncome",
         "rawType": "float64",
         "type": "float"
        },
        {
         "name": "TrainingTimesLastYear",
         "rawType": "int64",
         "type": "integer"
        },
        {
         "name": "Attrition",
         "rawType": "bool",
         "type": "boolean"
        },
        {
         "name": "ExitDate",
         "rawType": "datetime64[ns]",
         "type": "datetime"
        }
       ],
       "conversionMethod": "pd.DataFrame",
       "ref": "15b626ab-f4d3-495c-8641-de12c1b08273",
       "rows": [
        [
         "0",
         "10001",
         "Tuti",
         "Hidayat",
         "25",
         "Male",
         "Jakarta",
         "12.41",
         "Sales",
         "Sales Representative",
         "Entry Level",
         "Diploma",
         "Economics",
         "2025-01-14 04:30:59.134004",
         "0.15",
         "1",
         "3.8",
         "4",
         "5",
         "3",
         "False",
         "3.91",
         "50.85",
         "71",
         "True",
         "2025-01-26 04:30:59.134004"
        ],
        [
         "1",
         "10002",
         "Yanto",
         "Purnama",
         "46",
         "Male",
         "Jakarta",
         "8.59",
         "Sales",
         "Branch Sales Supervisor",
         "Senior",
         "Bachelor's Degree",
         "Other",
         "2023-01-24 04:30:59.134004",
         "2.13",
         "2",
         "1.5",
         "3",
         "4",
         "3",
         "False",
         "43.28",
         "562.7",
         "17",
         "True",
         "2024-04-18 04:30:59.134004"
        ],
        [
         "2",
         "10003",
         "Fitri",
         "Setiawan",
         "29",
         "Female",
         "Semarang",
         "1.73",
         "HR",
         "HR Assistant",
         "Junior",
         "Bachelor's Degree",
         "Business Administration",
         "2023-10-25 04:30:59.134004",
         "1.38",
         "0",
         "3.0",
         "3",
         "4",
         "3",
         "False",
         "11.29",
         "146.77",
         "22",
         "False",
         null
        ],
        [
         "3",
         "10004",
         "Dedi",
         "Purnama",
         "54",
         "Male",
         "Depok",
         "15.93",
         "Operations",
         "Operations Supervisor",
         "Senior",
         "High School",
         "High School",
         "2022-01-15 04:30:59.134004",
         "3.15",
         "3",
         "3.2",
         "4",
         "3",
         "4",
         "False",
         "55.51",
         "721.63",
         "47",
         "True",
         "2024-12-22 04:30:59.134004"
        ],
        [
         "4",
         "10005",
         "Hadi",
         "Santoso",
         "49",
         "Female",
         "Medan",
         "1.77",
         "Operations",
         "Loan Processor",
         "Entry Level",
         "Bachelor's Degree",
         "Business Administration",
         "2022-03-06 04:30:59.134004",
         "3.01",
         "2",
         "3.5",
         "4",
         "4",
         "2",
         "False",
         "8.97",
         "116.56",
         "76",
         "True",
         "2023-09-15 04:30:59.134004"
        ]
       ],
       "shape": {
        "columns": 25,
        "rows": 5
       }
      },
      "text/html": [
       "<div>\n",
       "<style scoped>\n",
       "    .dataframe tbody tr th:only-of-type {\n",
       "        vertical-align: middle;\n",
       "    }\n",
       "\n",
       "    .dataframe tbody tr th {\n",
       "        vertical-align: top;\n",
       "    }\n",
       "\n",
       "    .dataframe thead th {\n",
       "        text-align: right;\n",
       "    }\n",
       "</style>\n",
       "<table border=\"1\" class=\"dataframe\">\n",
       "  <thead>\n",
       "    <tr style=\"text-align: right;\">\n",
       "      <th></th>\n",
       "      <th>EmployeeID</th>\n",
       "      <th>FirstName</th>\n",
       "      <th>LastName</th>\n",
       "      <th>Age</th>\n",
       "      <th>Gender</th>\n",
       "      <th>OfficeLocation</th>\n",
       "      <th>DistanceFromHome</th>\n",
       "      <th>Department</th>\n",
       "      <th>JobRole</th>\n",
       "      <th>JobLevel</th>\n",
       "      <th>Education</th>\n",
       "      <th>FieldOfStudy</th>\n",
       "      <th>HireDate</th>\n",
       "      <th>YearsAtCompany</th>\n",
       "      <th>YearsSinceLastPromotion</th>\n",
       "      <th>JobSatisfaction</th>\n",
       "      <th>EnvironmentSatisfaction</th>\n",
       "      <th>WorkLifeBalance</th>\n",
       "      <th>PerformanceRating</th>\n",
       "      <th>Overtime</th>\n",
       "      <th>MonthlyIncome</th>\n",
       "      <th>AnnualIncome</th>\n",
       "      <th>TrainingTimesLastYear</th>\n",
       "      <th>Attrition</th>\n",
       "      <th>ExitDate</th>\n",
       "    </tr>\n",
       "  </thead>\n",
       "  <tbody>\n",
       "    <tr>\n",
       "      <th>0</th>\n",
       "      <td>10001</td>\n",
       "      <td>Tuti</td>\n",
       "      <td>Hidayat</td>\n",
       "      <td>25</td>\n",
       "      <td>Male</td>\n",
       "      <td>Jakarta</td>\n",
       "      <td>12.41</td>\n",
       "      <td>Sales</td>\n",
       "      <td>Sales Representative</td>\n",
       "      <td>Entry Level</td>\n",
       "      <td>Diploma</td>\n",
       "      <td>Economics</td>\n",
       "      <td>2025-01-14 04:30:59.134004</td>\n",
       "      <td>0.15</td>\n",
       "      <td>1</td>\n",
       "      <td>3.8</td>\n",
       "      <td>4</td>\n",
       "      <td>5</td>\n",
       "      <td>3</td>\n",
       "      <td>False</td>\n",
       "      <td>3.91</td>\n",
       "      <td>50.85</td>\n",
       "      <td>71</td>\n",
       "      <td>True</td>\n",
       "      <td>2025-01-26 04:30:59.134004</td>\n",
       "    </tr>\n",
       "    <tr>\n",
       "      <th>1</th>\n",
       "      <td>10002</td>\n",
       "      <td>Yanto</td>\n",
       "      <td>Purnama</td>\n",
       "      <td>46</td>\n",
       "      <td>Male</td>\n",
       "      <td>Jakarta</td>\n",
       "      <td>8.59</td>\n",
       "      <td>Sales</td>\n",
       "      <td>Branch Sales Supervisor</td>\n",
       "      <td>Senior</td>\n",
       "      <td>Bachelor's Degree</td>\n",
       "      <td>Other</td>\n",
       "      <td>2023-01-24 04:30:59.134004</td>\n",
       "      <td>2.13</td>\n",
       "      <td>2</td>\n",
       "      <td>1.5</td>\n",
       "      <td>3</td>\n",
       "      <td>4</td>\n",
       "      <td>3</td>\n",
       "      <td>False</td>\n",
       "      <td>43.28</td>\n",
       "      <td>562.70</td>\n",
       "      <td>17</td>\n",
       "      <td>True</td>\n",
       "      <td>2024-04-18 04:30:59.134004</td>\n",
       "    </tr>\n",
       "    <tr>\n",
       "      <th>2</th>\n",
       "      <td>10003</td>\n",
       "      <td>Fitri</td>\n",
       "      <td>Setiawan</td>\n",
       "      <td>29</td>\n",
       "      <td>Female</td>\n",
       "      <td>Semarang</td>\n",
       "      <td>1.73</td>\n",
       "      <td>HR</td>\n",
       "      <td>HR Assistant</td>\n",
       "      <td>Junior</td>\n",
       "      <td>Bachelor's Degree</td>\n",
       "      <td>Business Administration</td>\n",
       "      <td>2023-10-25 04:30:59.134004</td>\n",
       "      <td>1.38</td>\n",
       "      <td>0</td>\n",
       "      <td>3.0</td>\n",
       "      <td>3</td>\n",
       "      <td>4</td>\n",
       "      <td>3</td>\n",
       "      <td>False</td>\n",
       "      <td>11.29</td>\n",
       "      <td>146.77</td>\n",
       "      <td>22</td>\n",
       "      <td>False</td>\n",
       "      <td>NaT</td>\n",
       "    </tr>\n",
       "    <tr>\n",
       "      <th>3</th>\n",
       "      <td>10004</td>\n",
       "      <td>Dedi</td>\n",
       "      <td>Purnama</td>\n",
       "      <td>54</td>\n",
       "      <td>Male</td>\n",
       "      <td>Depok</td>\n",
       "      <td>15.93</td>\n",
       "      <td>Operations</td>\n",
       "      <td>Operations Supervisor</td>\n",
       "      <td>Senior</td>\n",
       "      <td>High School</td>\n",
       "      <td>High School</td>\n",
       "      <td>2022-01-15 04:30:59.134004</td>\n",
       "      <td>3.15</td>\n",
       "      <td>3</td>\n",
       "      <td>3.2</td>\n",
       "      <td>4</td>\n",
       "      <td>3</td>\n",
       "      <td>4</td>\n",
       "      <td>False</td>\n",
       "      <td>55.51</td>\n",
       "      <td>721.63</td>\n",
       "      <td>47</td>\n",
       "      <td>True</td>\n",
       "      <td>2024-12-22 04:30:59.134004</td>\n",
       "    </tr>\n",
       "    <tr>\n",
       "      <th>4</th>\n",
       "      <td>10005</td>\n",
       "      <td>Hadi</td>\n",
       "      <td>Santoso</td>\n",
       "      <td>49</td>\n",
       "      <td>Female</td>\n",
       "      <td>Medan</td>\n",
       "      <td>1.77</td>\n",
       "      <td>Operations</td>\n",
       "      <td>Loan Processor</td>\n",
       "      <td>Entry Level</td>\n",
       "      <td>Bachelor's Degree</td>\n",
       "      <td>Business Administration</td>\n",
       "      <td>2022-03-06 04:30:59.134004</td>\n",
       "      <td>3.01</td>\n",
       "      <td>2</td>\n",
       "      <td>3.5</td>\n",
       "      <td>4</td>\n",
       "      <td>4</td>\n",
       "      <td>2</td>\n",
       "      <td>False</td>\n",
       "      <td>8.97</td>\n",
       "      <td>116.56</td>\n",
       "      <td>76</td>\n",
       "      <td>True</td>\n",
       "      <td>2023-09-15 04:30:59.134004</td>\n",
       "    </tr>\n",
       "  </tbody>\n",
       "</table>\n",
       "</div>"
      ],
      "text/plain": [
       "   EmployeeID FirstName  LastName  Age  Gender OfficeLocation  DistanceFromHome  Department                  JobRole     JobLevel          Education             FieldOfStudy                   HireDate  YearsAtCompany  YearsSinceLastPromotion  JobSatisfaction  EnvironmentSatisfaction  WorkLifeBalance  PerformanceRating  Overtime  MonthlyIncome  AnnualIncome  TrainingTimesLastYear  Attrition                   ExitDate\n",
       "0       10001      Tuti   Hidayat   25    Male        Jakarta             12.41       Sales     Sales Representative  Entry Level            Diploma                Economics 2025-01-14 04:30:59.134004            0.15                        1              3.8                        4                5                  3     False           3.91         50.85                     71       True 2025-01-26 04:30:59.134004\n",
       "1       10002     Yanto   Purnama   46    Male        Jakarta              8.59       Sales  Branch Sales Supervisor       Senior  Bachelor's Degree                    Other 2023-01-24 04:30:59.134004            2.13                        2              1.5                        3                4                  3     False          43.28        562.70                     17       True 2024-04-18 04:30:59.134004\n",
       "2       10003     Fitri  Setiawan   29  Female       Semarang              1.73          HR             HR Assistant       Junior  Bachelor's Degree  Business Administration 2023-10-25 04:30:59.134004            1.38                        0              3.0                        3                4                  3     False          11.29        146.77                     22      False                        NaT\n",
       "3       10004      Dedi   Purnama   54    Male          Depok             15.93  Operations    Operations Supervisor       Senior        High School              High School 2022-01-15 04:30:59.134004            3.15                        3              3.2                        4                3                  4     False          55.51        721.63                     47       True 2024-12-22 04:30:59.134004\n",
       "4       10005      Hadi   Santoso   49  Female          Medan              1.77  Operations           Loan Processor  Entry Level  Bachelor's Degree  Business Administration 2022-03-06 04:30:59.134004            3.01                        2              3.5                        4                4                  2     False           8.97        116.56                     76       True 2023-09-15 04:30:59.134004"
      ]
     },
     "execution_count": 4,
     "metadata": {},
     "output_type": "execute_result"
    }
   ],
   "source": [
    "# Employee data overview\n",
    "print(f\"Employee data shape: {employees_df.shape}\")\n",
    "employees_df.head()"
   ]
  },
  {
   "cell_type": "code",
   "execution_count": 5,
   "metadata": {},
   "outputs": [
    {
     "name": "stdout",
     "output_type": "stream",
     "text": [
      "Basic statistics:\n",
      "Total employees: 3900\n",
      "Current employees: 642\n",
      "Former employees: 3258\n",
      "Attrition rate: 83.54%\n",
      "\n",
      "Employee count by department:\n",
      "  - Sales: 941 (24.1%)\n",
      "  - Collections: 795 (20.4%)\n",
      "  - Operations: 593 (15.2%)\n",
      "  - Customer Service: 389 (10.0%)\n",
      "  - Finance: 328 (8.4%)\n",
      "  - Risk Management: 319 (8.2%)\n",
      "  - IT: 215 (5.5%)\n",
      "  - HR: 162 (4.2%)\n",
      "  - Legal: 85 (2.2%)\n",
      "  - Executive: 73 (1.9%)\n"
     ]
    }
   ],
   "source": [
    "# Basic employee statistics\n",
    "print(\"Basic statistics:\")\n",
    "print(f\"Total employees: {len(employees_df)}\")\n",
    "print(f\"Current employees: {len(employees_df[~employees_df['Attrition']])}\")\n",
    "print(f\"Former employees: {len(employees_df[employees_df['Attrition']])}\")\n",
    "print(f\"Attrition rate: {len(employees_df[employees_df['Attrition']]) / len(employees_df):.2%}\")\n",
    "\n",
    "# Department distribution\n",
    "dept_counts = employees_df['Department'].value_counts()\n",
    "print(\"\\nEmployee count by department:\")\n",
    "for dept, count in dept_counts.items():\n",
    "    print(f\"  - {dept}: {count} ({count/len(employees_df):.1%})\")"
   ]
  },
  {
   "cell_type": "code",
   "execution_count": null,
   "metadata": {},
   "outputs": [],
   "source": []
  }
 ],
 "metadata": {
  "kernelspec": {
   "display_name": "hr-attrition-analytics-4iIZdCNj",
   "language": "python",
   "name": "python3"
  },
  "language_info": {
   "codemirror_mode": {
    "name": "ipython",
    "version": 3
   },
   "file_extension": ".py",
   "mimetype": "text/x-python",
   "name": "python",
   "nbconvert_exporter": "python",
   "pygments_lexer": "ipython3",
   "version": "3.11.11"
  }
 },
 "nbformat": 4,
 "nbformat_minor": 2
}
