{
 "cells": [
  {
   "cell_type": "code",
   "execution_count": 1,
   "metadata": {},
   "outputs": [],
   "source": [
    "# Import necessary libraries\n",
    "import numpy as np\n",
    "import pandas as pd\n",
    "from datetime import datetime\n",
    "import matplotlib.pyplot as plt\n",
    "import seaborn as sns\n",
    "\n",
    "# Set visualizatio style\n",
    "plt.style.use('seaborn-v0_8-whitegrid')\n",
    "sns.set_palette(\"deep\")\n",
    "sns.set_context(\"notebook\", font_scale=1.2)"
   ]
  },
  {
   "cell_type": "code",
   "execution_count": 2,
   "metadata": {},
   "outputs": [
    {
     "name": "stdout",
     "output_type": "stream",
     "text": [
      "Loading employee data...\n",
      "Dataset shape: (3892, 25)\n",
      "Number of employees: 3892\n",
      "Attrition rate: 22.92%\n"
     ]
    },
    {
     "data": {
      "application/vnd.microsoft.datawrangler.viewer.v0+json": {
       "columns": [
        {
         "name": "index",
         "rawType": "int64",
         "type": "integer"
        },
        {
         "name": "EmployeeID",
         "rawType": "int64",
         "type": "integer"
        },
        {
         "name": "FirstName",
         "rawType": "object",
         "type": "string"
        },
        {
         "name": "LastName",
         "rawType": "object",
         "type": "string"
        },
        {
         "name": "Age",
         "rawType": "int64",
         "type": "integer"
        },
        {
         "name": "Gender",
         "rawType": "object",
         "type": "string"
        },
        {
         "name": "OfficeLocation",
         "rawType": "object",
         "type": "string"
        },
        {
         "name": "DistanceFromHome",
         "rawType": "float64",
         "type": "float"
        },
        {
         "name": "Department",
         "rawType": "object",
         "type": "string"
        },
        {
         "name": "JobRole",
         "rawType": "object",
         "type": "string"
        },
        {
         "name": "JobLevel",
         "rawType": "object",
         "type": "string"
        },
        {
         "name": "Education",
         "rawType": "object",
         "type": "string"
        },
        {
         "name": "FieldOfStudy",
         "rawType": "object",
         "type": "string"
        },
        {
         "name": "HireDate",
         "rawType": "datetime64[ns]",
         "type": "datetime"
        },
        {
         "name": "YearsAtCompany",
         "rawType": "float64",
         "type": "float"
        },
        {
         "name": "YearsSinceLastPromotion",
         "rawType": "int64",
         "type": "integer"
        },
        {
         "name": "JobSatisfaction",
         "rawType": "float64",
         "type": "float"
        },
        {
         "name": "EnvironmentSatisfaction",
         "rawType": "int64",
         "type": "integer"
        },
        {
         "name": "WorkLifeBalance",
         "rawType": "int64",
         "type": "integer"
        },
        {
         "name": "PerformanceRating",
         "rawType": "int64",
         "type": "integer"
        },
        {
         "name": "Overtime",
         "rawType": "bool",
         "type": "boolean"
        },
        {
         "name": "MonthlyIncome",
         "rawType": "float64",
         "type": "float"
        },
        {
         "name": "AnnualIncome",
         "rawType": "float64",
         "type": "float"
        },
        {
         "name": "TrainingTimesLastYear",
         "rawType": "int64",
         "type": "integer"
        },
        {
         "name": "Attrition",
         "rawType": "bool",
         "type": "boolean"
        },
        {
         "name": "ExitDate",
         "rawType": "datetime64[ns]",
         "type": "datetime"
        }
       ],
       "conversionMethod": "pd.DataFrame",
       "ref": "93b67c99-30b3-4796-a66f-e7746f2b0ce4",
       "rows": [
        [
         "0",
         "10001",
         "Tuti",
         "Hidayat",
         "25",
         "Male",
         "Jakarta",
         "12.41",
         "Sales",
         "Sales Representative",
         "Entry Level",
         "Diploma",
         "Economics",
         "2025-01-14 07:38:40.440343",
         "0.15",
         "1",
         "3.8",
         "4",
         "5",
         "3",
         "False",
         "3.91",
         "50.85",
         "71",
         "True",
         "2025-01-26 07:38:40.440343"
        ],
        [
         "1",
         "10002",
         "Yanto",
         "Purnama",
         "46",
         "Male",
         "Jakarta",
         "8.59",
         "Sales",
         "Branch Sales Supervisor",
         "Senior",
         "Bachelor's Degree",
         "Other",
         "2023-01-24 07:38:40.440343",
         "2.13",
         "2",
         "1.5",
         "3",
         "4",
         "3",
         "False",
         "43.28",
         "562.7",
         "17",
         "False",
         null
        ],
        [
         "2",
         "10003",
         "Farida",
         "Utama",
         "39",
         "Female",
         "Surabaya",
         "8.84",
         "Customer Service",
         "Customer Service Representative",
         "Entry Level",
         "Bachelor's Degree",
         "Business Administration",
         "2023-10-25 07:38:40.440343",
         "1.38",
         "0",
         "3.0",
         "3",
         "4",
         "3",
         "False",
         "5.33",
         "69.24",
         "22",
         "False",
         null
        ],
        [
         "3",
         "10004",
         "Dedi",
         "Purnama",
         "54",
         "Male",
         "Depok",
         "15.93",
         "Operations",
         "Operations Supervisor",
         "Senior",
         "High School",
         "High School",
         "2022-01-15 07:38:40.440343",
         "3.15",
         "3",
         "3.2",
         "4",
         "3",
         "4",
         "False",
         "55.51",
         "721.63",
         "47",
         "False",
         null
        ],
        [
         "4",
         "10005",
         "Edi",
         "Habibie",
         "24",
         "Female",
         "Palembang",
         "15.72",
         "Operations",
         "Regional Operations Director",
         "Director",
         "Bachelor's Degree",
         "Business Administration",
         "2024-07-18 07:38:40.440343",
         "0.64",
         "1",
         "3.8",
         "4",
         "3",
         "4",
         "False",
         "82.15",
         "1068.0",
         "10",
         "False",
         null
        ]
       ],
       "shape": {
        "columns": 25,
        "rows": 5
       }
      },
      "text/html": [
       "<div>\n",
       "<style scoped>\n",
       "    .dataframe tbody tr th:only-of-type {\n",
       "        vertical-align: middle;\n",
       "    }\n",
       "\n",
       "    .dataframe tbody tr th {\n",
       "        vertical-align: top;\n",
       "    }\n",
       "\n",
       "    .dataframe thead th {\n",
       "        text-align: right;\n",
       "    }\n",
       "</style>\n",
       "<table border=\"1\" class=\"dataframe\">\n",
       "  <thead>\n",
       "    <tr style=\"text-align: right;\">\n",
       "      <th></th>\n",
       "      <th>EmployeeID</th>\n",
       "      <th>FirstName</th>\n",
       "      <th>LastName</th>\n",
       "      <th>Age</th>\n",
       "      <th>Gender</th>\n",
       "      <th>OfficeLocation</th>\n",
       "      <th>DistanceFromHome</th>\n",
       "      <th>Department</th>\n",
       "      <th>JobRole</th>\n",
       "      <th>JobLevel</th>\n",
       "      <th>...</th>\n",
       "      <th>JobSatisfaction</th>\n",
       "      <th>EnvironmentSatisfaction</th>\n",
       "      <th>WorkLifeBalance</th>\n",
       "      <th>PerformanceRating</th>\n",
       "      <th>Overtime</th>\n",
       "      <th>MonthlyIncome</th>\n",
       "      <th>AnnualIncome</th>\n",
       "      <th>TrainingTimesLastYear</th>\n",
       "      <th>Attrition</th>\n",
       "      <th>ExitDate</th>\n",
       "    </tr>\n",
       "  </thead>\n",
       "  <tbody>\n",
       "    <tr>\n",
       "      <th>0</th>\n",
       "      <td>10001</td>\n",
       "      <td>Tuti</td>\n",
       "      <td>Hidayat</td>\n",
       "      <td>25</td>\n",
       "      <td>Male</td>\n",
       "      <td>Jakarta</td>\n",
       "      <td>12.41</td>\n",
       "      <td>Sales</td>\n",
       "      <td>Sales Representative</td>\n",
       "      <td>Entry Level</td>\n",
       "      <td>...</td>\n",
       "      <td>3.8</td>\n",
       "      <td>4</td>\n",
       "      <td>5</td>\n",
       "      <td>3</td>\n",
       "      <td>False</td>\n",
       "      <td>3.91</td>\n",
       "      <td>50.85</td>\n",
       "      <td>71</td>\n",
       "      <td>True</td>\n",
       "      <td>2025-01-26 07:38:40.440343</td>\n",
       "    </tr>\n",
       "    <tr>\n",
       "      <th>1</th>\n",
       "      <td>10002</td>\n",
       "      <td>Yanto</td>\n",
       "      <td>Purnama</td>\n",
       "      <td>46</td>\n",
       "      <td>Male</td>\n",
       "      <td>Jakarta</td>\n",
       "      <td>8.59</td>\n",
       "      <td>Sales</td>\n",
       "      <td>Branch Sales Supervisor</td>\n",
       "      <td>Senior</td>\n",
       "      <td>...</td>\n",
       "      <td>1.5</td>\n",
       "      <td>3</td>\n",
       "      <td>4</td>\n",
       "      <td>3</td>\n",
       "      <td>False</td>\n",
       "      <td>43.28</td>\n",
       "      <td>562.70</td>\n",
       "      <td>17</td>\n",
       "      <td>False</td>\n",
       "      <td>NaT</td>\n",
       "    </tr>\n",
       "    <tr>\n",
       "      <th>2</th>\n",
       "      <td>10003</td>\n",
       "      <td>Farida</td>\n",
       "      <td>Utama</td>\n",
       "      <td>39</td>\n",
       "      <td>Female</td>\n",
       "      <td>Surabaya</td>\n",
       "      <td>8.84</td>\n",
       "      <td>Customer Service</td>\n",
       "      <td>Customer Service Representative</td>\n",
       "      <td>Entry Level</td>\n",
       "      <td>...</td>\n",
       "      <td>3.0</td>\n",
       "      <td>3</td>\n",
       "      <td>4</td>\n",
       "      <td>3</td>\n",
       "      <td>False</td>\n",
       "      <td>5.33</td>\n",
       "      <td>69.24</td>\n",
       "      <td>22</td>\n",
       "      <td>False</td>\n",
       "      <td>NaT</td>\n",
       "    </tr>\n",
       "    <tr>\n",
       "      <th>3</th>\n",
       "      <td>10004</td>\n",
       "      <td>Dedi</td>\n",
       "      <td>Purnama</td>\n",
       "      <td>54</td>\n",
       "      <td>Male</td>\n",
       "      <td>Depok</td>\n",
       "      <td>15.93</td>\n",
       "      <td>Operations</td>\n",
       "      <td>Operations Supervisor</td>\n",
       "      <td>Senior</td>\n",
       "      <td>...</td>\n",
       "      <td>3.2</td>\n",
       "      <td>4</td>\n",
       "      <td>3</td>\n",
       "      <td>4</td>\n",
       "      <td>False</td>\n",
       "      <td>55.51</td>\n",
       "      <td>721.63</td>\n",
       "      <td>47</td>\n",
       "      <td>False</td>\n",
       "      <td>NaT</td>\n",
       "    </tr>\n",
       "    <tr>\n",
       "      <th>4</th>\n",
       "      <td>10005</td>\n",
       "      <td>Edi</td>\n",
       "      <td>Habibie</td>\n",
       "      <td>24</td>\n",
       "      <td>Female</td>\n",
       "      <td>Palembang</td>\n",
       "      <td>15.72</td>\n",
       "      <td>Operations</td>\n",
       "      <td>Regional Operations Director</td>\n",
       "      <td>Director</td>\n",
       "      <td>...</td>\n",
       "      <td>3.8</td>\n",
       "      <td>4</td>\n",
       "      <td>3</td>\n",
       "      <td>4</td>\n",
       "      <td>False</td>\n",
       "      <td>82.15</td>\n",
       "      <td>1068.00</td>\n",
       "      <td>10</td>\n",
       "      <td>False</td>\n",
       "      <td>NaT</td>\n",
       "    </tr>\n",
       "  </tbody>\n",
       "</table>\n",
       "<p>5 rows × 25 columns</p>\n",
       "</div>"
      ],
      "text/plain": [
       "   EmployeeID FirstName LastName  Age  Gender OfficeLocation  \\\n",
       "0       10001      Tuti  Hidayat   25    Male        Jakarta   \n",
       "1       10002     Yanto  Purnama   46    Male        Jakarta   \n",
       "2       10003    Farida    Utama   39  Female       Surabaya   \n",
       "3       10004      Dedi  Purnama   54    Male          Depok   \n",
       "4       10005       Edi  Habibie   24  Female      Palembang   \n",
       "\n",
       "   DistanceFromHome        Department                          JobRole  \\\n",
       "0             12.41             Sales             Sales Representative   \n",
       "1              8.59             Sales          Branch Sales Supervisor   \n",
       "2              8.84  Customer Service  Customer Service Representative   \n",
       "3             15.93        Operations            Operations Supervisor   \n",
       "4             15.72        Operations     Regional Operations Director   \n",
       "\n",
       "      JobLevel  ... JobSatisfaction EnvironmentSatisfaction WorkLifeBalance  \\\n",
       "0  Entry Level  ...             3.8                       4               5   \n",
       "1       Senior  ...             1.5                       3               4   \n",
       "2  Entry Level  ...             3.0                       3               4   \n",
       "3       Senior  ...             3.2                       4               3   \n",
       "4     Director  ...             3.8                       4               3   \n",
       "\n",
       "   PerformanceRating  Overtime  MonthlyIncome  AnnualIncome  \\\n",
       "0                  3     False           3.91         50.85   \n",
       "1                  3     False          43.28        562.70   \n",
       "2                  3     False           5.33         69.24   \n",
       "3                  4     False          55.51        721.63   \n",
       "4                  4     False          82.15       1068.00   \n",
       "\n",
       "   TrainingTimesLastYear  Attrition                   ExitDate  \n",
       "0                     71       True 2025-01-26 07:38:40.440343  \n",
       "1                     17      False                        NaT  \n",
       "2                     22      False                        NaT  \n",
       "3                     47      False                        NaT  \n",
       "4                     10      False                        NaT  \n",
       "\n",
       "[5 rows x 25 columns]"
      ]
     },
     "execution_count": 2,
     "metadata": {},
     "output_type": "execute_result"
    }
   ],
   "source": [
    "# Load the data\n",
    "print(\"Loading employee data...\")\n",
    "data_dir = '../data/raw/'\n",
    "employees_df = pd.read_csv(f'{data_dir}employees.csv', parse_dates=['HireDate', 'ExitDate'])\n",
    "\n",
    "print(f\"Dataset shape: {employees_df.shape}\")\n",
    "print(f\"Number of employees: {len(employees_df)}\")\n",
    "print(f\"Attrition rate: {employees_df['Attrition'].mean():.2%}\")\n",
    "\n",
    "# Display the first few rows\n",
    "employees_df.head()"
   ]
  },
  {
   "cell_type": "markdown",
   "metadata": {},
   "source": [
    "#### Create time-based features"
   ]
  },
  {
   "cell_type": "code",
   "execution_count": 3,
   "metadata": {},
   "outputs": [
    {
     "name": "stdout",
     "output_type": "stream",
     "text": [
      "\n",
      "1. Creating time-based features...\n"
     ]
    }
   ],
   "source": [
    "print(\"\\n1. Creating time-based features...\")\n",
    "# Using the current date to calculate time-related features\n",
    "current_date = datetime.now()\n",
    "employees_df['HireDateObj'] = pd.to_datetime(employees_df['HireDate'])\n",
    "employees_df['YearsSinceHire'] = (current_date - employees_df['HireDateObj']).dt.days / 365\n",
    "\n",
    "# Calculate potential career progression rate\n",
    "employees_df['TimeToPromotion'] = employees_df['YearsSinceLastPromotion'] / np.maximum(employees_df['YearsAtCompany'], 0.5)\n",
    "# Clip extreme values\n",
    "employees_df['TimeToPromotion'] = employees_df['TimeToPromotion'].clip(0, 1)\n"
   ]
  },
  {
   "cell_type": "markdown",
   "metadata": {},
   "source": [
    "#### Create salary-based features"
   ]
  },
  {
   "cell_type": "code",
   "execution_count": 4,
   "metadata": {},
   "outputs": [
    {
     "name": "stdout",
     "output_type": "stream",
     "text": [
      "\n",
      "2. Creating compensation-related features...\n"
     ]
    }
   ],
   "source": [
    "print(\"\\n2. Creating compensation-related features...\")\n",
    "# Salary ratio compared to job level median\n",
    "employees_df['SalaryRatioToLevel'] = employees_df['MonthlyIncome'] / employees_df.groupby('JobLevel')['MonthlyIncome'].transform('median')\n",
    "\n",
    "# Salary ratio compared to department median\n",
    "employees_df['SalaryRatioDept'] = employees_df['MonthlyIncome'] / employees_df.groupby('Department')['MonthlyIncome'].transform('median')\n",
    "\n",
    "# Salary ratio compared to similar tenure\n",
    "tenure_bins = [0, 1, 3, 5, 10, 100]\n",
    "employees_df['TenureGroup'] = pd.cut(employees_df['YearsAtCompany'], bins=tenure_bins, labels=False)\n",
    "employees_df['SalaryRatioToTenure'] = employees_df['MonthlyIncome'] / employees_df.groupby('TenureGroup')['MonthlyIncome'].transform('median')"
   ]
  },
  {
   "cell_type": "markdown",
   "metadata": {},
   "source": [
    "#### Create commute difficulty categories"
   ]
  },
  {
   "cell_type": "code",
   "execution_count": 5,
   "metadata": {},
   "outputs": [
    {
     "name": "stdout",
     "output_type": "stream",
     "text": [
      "\n",
      "3. Creating commute difficulty categories...\n"
     ]
    }
   ],
   "source": [
    "# Create commute difficulty categories\n",
    "print(\"\\n3. Creating commute difficulty categories...\")\n",
    "employees_df['CommuteDifficulty'] = pd.cut(\n",
    "    employees_df['DistanceFromHome'], \n",
    "    bins=[0, 5, 15, 100], \n",
    "    labels=['Short', 'Medium', 'Long']\n",
    ")"
   ]
  },
  {
   "cell_type": "markdown",
   "metadata": {},
   "source": [
    "#### Create work-life balance indicators"
   ]
  },
  {
   "cell_type": "code",
   "execution_count": 6,
   "metadata": {},
   "outputs": [
    {
     "name": "stdout",
     "output_type": "stream",
     "text": [
      "\n",
      "4. Creating work-life balance indicators...\n"
     ]
    }
   ],
   "source": [
    "# Create work-life balance indicators\n",
    "print(\"\\n4. Creating work-life balance indicators...\")\n",
    "employees_df['WorkLifeImbalance'] = ((employees_df['WorkLifeBalance'] <= 2) & \n",
    "                                    (employees_df['Overtime'] == True)).astype(int)\n"
   ]
  },
  {
   "cell_type": "markdown",
   "metadata": {},
   "source": [
    "#### Create satisfaction composite scores"
   ]
  },
  {
   "cell_type": "code",
   "execution_count": 8,
   "metadata": {},
   "outputs": [
    {
     "name": "stdout",
     "output_type": "stream",
     "text": [
      "\n",
      "5. Creating satisfaction composite scores...\n"
     ]
    }
   ],
   "source": [
    "# Create satisfaction composite scores\n",
    "print(\"\\n5. Creating satisfaction composite scores...\")\n",
    "employees_df['OverallSatisfaction'] = (\n",
    "    employees_df['JobSatisfaction'] + \n",
    "    employees_df['EnvironmentSatisfaction'] + \n",
    "    employees_df['WorkLifeBalance']\n",
    ") / 3\n",
    "\n",
    "# Create engagement score (combining satisfaction and performance)\n",
    "employees_df['EngagementScore'] = (employees_df['OverallSatisfaction'] + employees_df['PerformanceRating'] / 5 * 5) / 2"
   ]
  },
  {
   "cell_type": "markdown",
   "metadata": {},
   "source": [
    "#### Create career growth indicators"
   ]
  },
  {
   "cell_type": "code",
   "execution_count": 9,
   "metadata": {},
   "outputs": [
    {
     "name": "stdout",
     "output_type": "stream",
     "text": [
      "\n",
      "6. Creating career growth indicators...\n"
     ]
    }
   ],
   "source": [
    "# Create career growth indicators\n",
    "print(\"\\n6. Creating career growth indicators...\")\n",
    "employees_df['StagnationRisk'] = ((employees_df['YearsSinceLastPromotion'] >= 2) & \n",
    "                                 (employees_df['YearsAtCompany'] > 3)).astype(int)\n",
    "\n",
    "# Create career growth velocity\n",
    "employees_df['CareerVelocity'] = employees_df['JobLevel'].map({\n",
    "    'Entry Level': 1, \n",
    "    'Junior': 2, \n",
    "    'Mid-Level': 3, \n",
    "    'Senior': 4, \n",
    "    'Manager': 5, \n",
    "    'Director': 6, \n",
    "    'Executive': 7\n",
    "}) / np.maximum(employees_df['YearsAtCompany'], 1)"
   ]
  },
  {
   "cell_type": "markdown",
   "metadata": {},
   "source": [
    "#### Create performance-related features\n"
   ]
  },
  {
   "cell_type": "code",
   "execution_count": null,
   "metadata": {},
   "outputs": [
    {
     "name": "stdout",
     "output_type": "stream",
     "text": [
      "\n",
      "7. Creating performance-related features...\n"
     ]
    }
   ],
   "source": [
    "# Create performance-related features\n",
    "print(\"\\n7. Creating performance-related features...\")\n",
    "# Higher performers often have different attrition patterns\n",
    "employees_df['HighPerformer'] = (employees_df['PerformanceRating'] >= 4).astype(int)\n",
    "employees_df['LowPerformer'] = (employees_df['PerformanceRating'] <= 2).astype(int)\n"
   ]
  },
  {
   "cell_type": "markdown",
   "metadata": {},
   "source": [
    "#### Create income-to-age ratio (career progression indicator)"
   ]
  },
  {
   "cell_type": "code",
   "execution_count": 13,
   "metadata": {},
   "outputs": [
    {
     "name": "stdout",
     "output_type": "stream",
     "text": [
      "\n",
      "8. Creating career progression indicators...\n"
     ]
    }
   ],
   "source": [
    "# Create income-to-age ratio (career progression indicator)\n",
    "print(\"\\n8. Creating career progression indicators...\")\n",
    "employees_df['IncomeToAgeRatio'] = employees_df['MonthlyIncome'] / employees_df['Age']"
   ]
  },
  {
   "cell_type": "markdown",
   "metadata": {},
   "source": [
    "#### Create training engagement indicator"
   ]
  },
  {
   "cell_type": "code",
   "execution_count": 14,
   "metadata": {},
   "outputs": [
    {
     "name": "stdout",
     "output_type": "stream",
     "text": [
      "\n",
      "9. Creating training engagement indicators...\n"
     ]
    }
   ],
   "source": [
    "# Create training engagement indicator\n",
    "print(\"\\n9. Creating training engagement indicators...\")\n",
    "employees_df['TrainingEngagement'] = pd.cut(\n",
    "    employees_df['TrainingTimesLastYear'],\n",
    "    bins=[-1, 20, 40, 100],\n",
    "    labels=['Low', 'Medium', 'High']\n",
    ")"
   ]
  },
  {
   "cell_type": "markdown",
   "metadata": {},
   "source": [
    "#### Create education relevance indicator\n"
   ]
  },
  {
   "cell_type": "code",
   "execution_count": 15,
   "metadata": {},
   "outputs": [
    {
     "name": "stdout",
     "output_type": "stream",
     "text": [
      "\n",
      "10. Creating education and demographic features...\n"
     ]
    }
   ],
   "source": [
    "# Create education relevance indicator\n",
    "print(\"\\n10. Creating education and demographic features...\")\n",
    "# Map education to numeric values for calculations\n",
    "education_map = {\n",
    "    'High School': 1,\n",
    "    'Diploma': 2,\n",
    "    'Bachelor\\'s Degree': 3,\n",
    "    'Master\\'s Degree': 4,\n",
    "    'PhD': 5\n",
    "}\n",
    "employees_df['EducationLevel'] = employees_df['Education'].map(education_map)\n",
    "\n",
    "# Create age group categories\n",
    "employees_df['AgeGroup'] = pd.cut(\n",
    "    employees_df['Age'],\n",
    "    bins=[20, 30, 40, 50, 100],\n",
    "    labels=['20s', '30s', '40s', '50+']\n",
    ")"
   ]
  },
  {
   "cell_type": "markdown",
   "metadata": {},
   "source": [
    "#### Post engineering"
   ]
  },
  {
   "cell_type": "code",
   "execution_count": 17,
   "metadata": {},
   "outputs": [],
   "source": [
    "# Clean up by dropping intermediate columns\n",
    "employees_df.drop(['HireDateObj', 'TenureGroup'], axis=1, inplace=True, errors='ignore')"
   ]
  },
  {
   "cell_type": "code",
   "execution_count": 18,
   "metadata": {},
   "outputs": [
    {
     "name": "stdout",
     "output_type": "stream",
     "text": [
      "\n",
      "Feature engineering complete.\n",
      "Number of original features: 25\n",
      "Number of new engineered features: 17\n",
      "Total number of features: 42\n"
     ]
    }
   ],
   "source": [
    "# Print the new features\n",
    "print(\"\\nFeature engineering complete.\")\n",
    "print(f\"Number of original features: {25}\")  # Initial number of features\n",
    "print(f\"Number of new engineered features: {len(employees_df.columns) - 25}\")\n",
    "print(f\"Total number of features: {len(employees_df.columns)}\")"
   ]
  },
  {
   "cell_type": "code",
   "execution_count": 19,
   "metadata": {},
   "outputs": [
    {
     "name": "stdout",
     "output_type": "stream",
     "text": [
      "\n",
      "Summary statistics for new numeric features:\n"
     ]
    },
    {
     "data": {
      "application/vnd.microsoft.datawrangler.viewer.v0+json": {
       "columns": [
        {
         "name": "index",
         "rawType": "object",
         "type": "string"
        },
        {
         "name": "YearsSinceHire",
         "rawType": "float64",
         "type": "float"
        },
        {
         "name": "TimeToPromotion",
         "rawType": "float64",
         "type": "float"
        },
        {
         "name": "SalaryRatioToLevel",
         "rawType": "float64",
         "type": "float"
        },
        {
         "name": "SalaryRatioDept",
         "rawType": "float64",
         "type": "float"
        },
        {
         "name": "SalaryRatioToTenure",
         "rawType": "float64",
         "type": "float"
        },
        {
         "name": "WorkLifeImbalance",
         "rawType": "float64",
         "type": "float"
        },
        {
         "name": "OverallSatisfaction",
         "rawType": "float64",
         "type": "float"
        },
        {
         "name": "EngagementScore",
         "rawType": "float64",
         "type": "float"
        },
        {
         "name": "StagnationRisk",
         "rawType": "float64",
         "type": "float"
        },
        {
         "name": "CareerVelocity",
         "rawType": "float64",
         "type": "float"
        },
        {
         "name": "HighPerformer",
         "rawType": "float64",
         "type": "float"
        },
        {
         "name": "LowPerformer",
         "rawType": "float64",
         "type": "float"
        },
        {
         "name": "IncomeToAgeRatio",
         "rawType": "float64",
         "type": "float"
        },
        {
         "name": "EducationLevel",
         "rawType": "float64",
         "type": "float"
        }
       ],
       "conversionMethod": "pd.DataFrame",
       "ref": "97caa8e5-f38a-4c9e-bbe8-ac8e72ff384b",
       "rows": [
        [
         "count",
         "3892.0",
         "3892.0",
         "3892.0",
         "3892.0",
         "3891.0",
         "3892.0",
         "3892.0",
         "3892.0",
         "3892.0",
         "3892.0",
         "3892.0",
         "3892.0",
         "3892.0",
         "3892.0"
        ],
        [
         "mean",
         "2.0059025186895494",
         "0.42256926221289337",
         "1.0092577739602404",
         "1.2582458397281955",
         "1.1328422815951316",
         "0.22687564234326824",
         "3.3585731414868105",
         "3.229132408359027",
         "0.1248715313463515",
         "2.1151014162983586",
         "0.30986639260020554",
         "0.20632065775950667",
         "1.3105796045017137",
         "2.568602261048304"
        ],
        [
         "std",
         "1.1477404728435638",
         "0.3915844546543757",
         "0.18973455948431842",
         "1.398965563316768",
         "0.8427010055179597",
         "0.4188653297105615",
         "0.6445401966047638",
         "0.5529323230343776",
         "0.33061566354167",
         "1.5083500516253978",
         "0.4624977527501447",
         "0.40471536771710076",
         "1.0507373312083306",
         "0.8749465888607487"
        ],
        [
         "min",
         "0.0027397260273972603",
         "0.0",
         "0.5025270758122744",
         "0.06905812392096682",
         "0.0895631067961165",
         "0.0",
         "1.0666666666666667",
         "1.25",
         "0.0",
         "0.2506265664160401",
         "0.0",
         "0.0",
         "0.07365384615384615",
         "1.0"
        ],
        [
         "25%",
         "1.0267123287671234",
         "0.0",
         "0.872164046908985",
         "0.5567932797662527",
         "0.43184649550427906",
         "0.0",
         "2.9333333333333336",
         "2.8333333333333335",
         "0.0",
         "1.0",
         "0.0",
         "0.0",
         "0.41687000887311443",
         "2.0"
        ],
        [
         "50%",
         "1.9931506849315068",
         "0.41493775933609955",
         "1.0",
         "1.0",
         "1.0",
         "0.0",
         "3.3333333333333335",
         "3.25",
         "0.0",
         "1.6736401673640167",
         "0.0",
         "0.0",
         "1.0977701863354037",
         "3.0"
        ],
        [
         "75%",
         "2.9917808219178084",
         "0.7879196021549937",
         "1.1440599769958535",
         "1.4963073086514482",
         "1.6685082872928176",
         "0.0",
         "3.9333333333333336",
         "3.6333333333333333",
         "0.0",
         "3.0",
         "1.0",
         "0.0",
         "1.9179474431818182",
         "3.0"
        ],
        [
         "max",
         "4.0",
         "1.0",
         "1.7314079422382673",
         "20.139380530973447",
         "6.628398058252426",
         "1.0",
         "5.0",
         "5.0",
         "1.0",
         "7.0",
         "1.0",
         "1.0",
         "11.873478260869565",
         "5.0"
        ]
       ],
       "shape": {
        "columns": 14,
        "rows": 8
       }
      },
      "text/html": [
       "<div>\n",
       "<style scoped>\n",
       "    .dataframe tbody tr th:only-of-type {\n",
       "        vertical-align: middle;\n",
       "    }\n",
       "\n",
       "    .dataframe tbody tr th {\n",
       "        vertical-align: top;\n",
       "    }\n",
       "\n",
       "    .dataframe thead th {\n",
       "        text-align: right;\n",
       "    }\n",
       "</style>\n",
       "<table border=\"1\" class=\"dataframe\">\n",
       "  <thead>\n",
       "    <tr style=\"text-align: right;\">\n",
       "      <th></th>\n",
       "      <th>YearsSinceHire</th>\n",
       "      <th>TimeToPromotion</th>\n",
       "      <th>SalaryRatioToLevel</th>\n",
       "      <th>SalaryRatioDept</th>\n",
       "      <th>SalaryRatioToTenure</th>\n",
       "      <th>WorkLifeImbalance</th>\n",
       "      <th>OverallSatisfaction</th>\n",
       "      <th>EngagementScore</th>\n",
       "      <th>StagnationRisk</th>\n",
       "      <th>CareerVelocity</th>\n",
       "      <th>HighPerformer</th>\n",
       "      <th>LowPerformer</th>\n",
       "      <th>IncomeToAgeRatio</th>\n",
       "      <th>EducationLevel</th>\n",
       "    </tr>\n",
       "  </thead>\n",
       "  <tbody>\n",
       "    <tr>\n",
       "      <th>count</th>\n",
       "      <td>3892.000000</td>\n",
       "      <td>3892.000000</td>\n",
       "      <td>3892.000000</td>\n",
       "      <td>3892.000000</td>\n",
       "      <td>3891.000000</td>\n",
       "      <td>3892.000000</td>\n",
       "      <td>3892.000000</td>\n",
       "      <td>3892.000000</td>\n",
       "      <td>3892.000000</td>\n",
       "      <td>3892.000000</td>\n",
       "      <td>3892.000000</td>\n",
       "      <td>3892.000000</td>\n",
       "      <td>3892.000000</td>\n",
       "      <td>3892.000000</td>\n",
       "    </tr>\n",
       "    <tr>\n",
       "      <th>mean</th>\n",
       "      <td>2.005903</td>\n",
       "      <td>0.422569</td>\n",
       "      <td>1.009258</td>\n",
       "      <td>1.258246</td>\n",
       "      <td>1.132842</td>\n",
       "      <td>0.226876</td>\n",
       "      <td>3.358573</td>\n",
       "      <td>3.229132</td>\n",
       "      <td>0.124872</td>\n",
       "      <td>2.115101</td>\n",
       "      <td>0.309866</td>\n",
       "      <td>0.206321</td>\n",
       "      <td>1.310580</td>\n",
       "      <td>2.568602</td>\n",
       "    </tr>\n",
       "    <tr>\n",
       "      <th>std</th>\n",
       "      <td>1.147740</td>\n",
       "      <td>0.391584</td>\n",
       "      <td>0.189735</td>\n",
       "      <td>1.398966</td>\n",
       "      <td>0.842701</td>\n",
       "      <td>0.418865</td>\n",
       "      <td>0.644540</td>\n",
       "      <td>0.552932</td>\n",
       "      <td>0.330616</td>\n",
       "      <td>1.508350</td>\n",
       "      <td>0.462498</td>\n",
       "      <td>0.404715</td>\n",
       "      <td>1.050737</td>\n",
       "      <td>0.874947</td>\n",
       "    </tr>\n",
       "    <tr>\n",
       "      <th>min</th>\n",
       "      <td>0.002740</td>\n",
       "      <td>0.000000</td>\n",
       "      <td>0.502527</td>\n",
       "      <td>0.069058</td>\n",
       "      <td>0.089563</td>\n",
       "      <td>0.000000</td>\n",
       "      <td>1.066667</td>\n",
       "      <td>1.250000</td>\n",
       "      <td>0.000000</td>\n",
       "      <td>0.250627</td>\n",
       "      <td>0.000000</td>\n",
       "      <td>0.000000</td>\n",
       "      <td>0.073654</td>\n",
       "      <td>1.000000</td>\n",
       "    </tr>\n",
       "    <tr>\n",
       "      <th>25%</th>\n",
       "      <td>1.026712</td>\n",
       "      <td>0.000000</td>\n",
       "      <td>0.872164</td>\n",
       "      <td>0.556793</td>\n",
       "      <td>0.431846</td>\n",
       "      <td>0.000000</td>\n",
       "      <td>2.933333</td>\n",
       "      <td>2.833333</td>\n",
       "      <td>0.000000</td>\n",
       "      <td>1.000000</td>\n",
       "      <td>0.000000</td>\n",
       "      <td>0.000000</td>\n",
       "      <td>0.416870</td>\n",
       "      <td>2.000000</td>\n",
       "    </tr>\n",
       "    <tr>\n",
       "      <th>50%</th>\n",
       "      <td>1.993151</td>\n",
       "      <td>0.414938</td>\n",
       "      <td>1.000000</td>\n",
       "      <td>1.000000</td>\n",
       "      <td>1.000000</td>\n",
       "      <td>0.000000</td>\n",
       "      <td>3.333333</td>\n",
       "      <td>3.250000</td>\n",
       "      <td>0.000000</td>\n",
       "      <td>1.673640</td>\n",
       "      <td>0.000000</td>\n",
       "      <td>0.000000</td>\n",
       "      <td>1.097770</td>\n",
       "      <td>3.000000</td>\n",
       "    </tr>\n",
       "    <tr>\n",
       "      <th>75%</th>\n",
       "      <td>2.991781</td>\n",
       "      <td>0.787920</td>\n",
       "      <td>1.144060</td>\n",
       "      <td>1.496307</td>\n",
       "      <td>1.668508</td>\n",
       "      <td>0.000000</td>\n",
       "      <td>3.933333</td>\n",
       "      <td>3.633333</td>\n",
       "      <td>0.000000</td>\n",
       "      <td>3.000000</td>\n",
       "      <td>1.000000</td>\n",
       "      <td>0.000000</td>\n",
       "      <td>1.917947</td>\n",
       "      <td>3.000000</td>\n",
       "    </tr>\n",
       "    <tr>\n",
       "      <th>max</th>\n",
       "      <td>4.000000</td>\n",
       "      <td>1.000000</td>\n",
       "      <td>1.731408</td>\n",
       "      <td>20.139381</td>\n",
       "      <td>6.628398</td>\n",
       "      <td>1.000000</td>\n",
       "      <td>5.000000</td>\n",
       "      <td>5.000000</td>\n",
       "      <td>1.000000</td>\n",
       "      <td>7.000000</td>\n",
       "      <td>1.000000</td>\n",
       "      <td>1.000000</td>\n",
       "      <td>11.873478</td>\n",
       "      <td>5.000000</td>\n",
       "    </tr>\n",
       "  </tbody>\n",
       "</table>\n",
       "</div>"
      ],
      "text/plain": [
       "       YearsSinceHire  TimeToPromotion  SalaryRatioToLevel  SalaryRatioDept  \\\n",
       "count     3892.000000      3892.000000         3892.000000      3892.000000   \n",
       "mean         2.005903         0.422569            1.009258         1.258246   \n",
       "std          1.147740         0.391584            0.189735         1.398966   \n",
       "min          0.002740         0.000000            0.502527         0.069058   \n",
       "25%          1.026712         0.000000            0.872164         0.556793   \n",
       "50%          1.993151         0.414938            1.000000         1.000000   \n",
       "75%          2.991781         0.787920            1.144060         1.496307   \n",
       "max          4.000000         1.000000            1.731408        20.139381   \n",
       "\n",
       "       SalaryRatioToTenure  WorkLifeImbalance  OverallSatisfaction  \\\n",
       "count          3891.000000        3892.000000          3892.000000   \n",
       "mean              1.132842           0.226876             3.358573   \n",
       "std               0.842701           0.418865             0.644540   \n",
       "min               0.089563           0.000000             1.066667   \n",
       "25%               0.431846           0.000000             2.933333   \n",
       "50%               1.000000           0.000000             3.333333   \n",
       "75%               1.668508           0.000000             3.933333   \n",
       "max               6.628398           1.000000             5.000000   \n",
       "\n",
       "       EngagementScore  StagnationRisk  CareerVelocity  HighPerformer  \\\n",
       "count      3892.000000     3892.000000     3892.000000    3892.000000   \n",
       "mean          3.229132        0.124872        2.115101       0.309866   \n",
       "std           0.552932        0.330616        1.508350       0.462498   \n",
       "min           1.250000        0.000000        0.250627       0.000000   \n",
       "25%           2.833333        0.000000        1.000000       0.000000   \n",
       "50%           3.250000        0.000000        1.673640       0.000000   \n",
       "75%           3.633333        0.000000        3.000000       1.000000   \n",
       "max           5.000000        1.000000        7.000000       1.000000   \n",
       "\n",
       "       LowPerformer  IncomeToAgeRatio  EducationLevel  \n",
       "count   3892.000000       3892.000000     3892.000000  \n",
       "mean       0.206321          1.310580        2.568602  \n",
       "std        0.404715          1.050737        0.874947  \n",
       "min        0.000000          0.073654        1.000000  \n",
       "25%        0.000000          0.416870        2.000000  \n",
       "50%        0.000000          1.097770        3.000000  \n",
       "75%        0.000000          1.917947        3.000000  \n",
       "max        1.000000         11.873478        5.000000  "
      ]
     },
     "execution_count": 19,
     "metadata": {},
     "output_type": "execute_result"
    }
   ],
   "source": [
    "# Analyze the engineered features\n",
    "engineered_features = [\n",
    "    'YearsSinceHire', 'TimeToPromotion', 'SalaryRatioToLevel', 'SalaryRatioDept',\n",
    "    'SalaryRatioToTenure', 'CommuteDifficulty', 'WorkLifeImbalance', 'OverallSatisfaction',\n",
    "    'EngagementScore', 'StagnationRisk', 'CareerVelocity', 'HighPerformer',\n",
    "    'LowPerformer', 'IncomeToAgeRatio', 'TrainingEngagement', 'EducationLevel', 'AgeGroup'\n",
    "]\n",
    "\n",
    "# Display summary statistics of new numeric features\n",
    "numeric_engineered = [f for f in engineered_features if f not in ['CommuteDifficulty', 'TrainingEngagement', 'AgeGroup']]\n",
    "print(\"\\nSummary statistics for new numeric features:\")\n",
    "employees_df[numeric_engineered].describe()"
   ]
  },
  {
   "cell_type": "code",
   "execution_count": 20,
   "metadata": {},
   "outputs": [
    {
     "data": {
      "image/png": "[encoded data removed]",
      "text/plain": [
       "<Figure size 1500x1000 with 4 Axes>"
      ]
     },
     "metadata": {},
     "output_type": "display_data"
    }
   ],
   "source": [
    "# Visualize distributions of a few key engineered features\n",
    "plt.figure(figsize=(15, 10))\n",
    "\n",
    "plt.subplot(2, 2, 1)\n",
    "sns.histplot(employees_df['OverallSatisfaction'], kde=True)\n",
    "plt.title('Distribution of Overall Satisfaction')\n",
    "\n",
    "plt.subplot(2, 2, 2)\n",
    "sns.histplot(employees_df['SalaryRatioToLevel'], kde=True)\n",
    "plt.title('Distribution of Salary Ratio to Job Level')\n",
    "\n",
    "plt.subplot(2, 2, 3)\n",
    "sns.countplot(x='StagnationRisk', data=employees_df)\n",
    "plt.title('Employee Stagnation Risk Count')\n",
    "\n",
    "plt.subplot(2, 2, 4)\n",
    "sns.histplot(employees_df['CareerVelocity'], kde=True)\n",
    "plt.title('Distribution of Career Velocity')\n",
    "\n",
    "plt.tight_layout()\n",
    "plt.show()"
   ]
  },
  {
   "cell_type": "code",
   "execution_count": 21,
   "metadata": {},
   "outputs": [
    {
     "name": "stdout",
     "output_type": "stream",
     "text": [
      "\n",
      "Engineered features saved to: ../data/processed/employees_engineered.csv\n"
     ]
    }
   ],
   "source": [
    "# Save the engineered features to a new file\n",
    "output_path = '../data/processed/employees_engineered.csv'\n",
    "employees_df.to_csv(output_path, index=False)\n",
    "print(f\"\\nEngineered features saved to: {output_path}\")"
   ]
  },
  {
   "cell_type": "code",
   "execution_count": null,
   "metadata": {},
   "outputs": [],
   "source": []
  }
 ],
 "metadata": {
  "kernelspec": {
   "display_name": "hr-attrition-analytics-4iIZdCNj",
   "language": "python",
   "name": "python3"
  },
  "language_info": {
   "codemirror_mode": {
    "name": "ipython",
    "version": 3
   },
   "file_extension": ".py",
   "mimetype": "text/x-python",
   "name": "python",
   "nbconvert_exporter": "python",
   "pygments_lexer": "ipython3",
   "version": "3.11.11"
  }
 },
 "nbformat": 4,
 "nbformat_minor": 2
}
